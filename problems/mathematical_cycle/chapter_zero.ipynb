{
 "cells": [
  {
   "cell_type": "code",
   "execution_count": null,
   "metadata": {},
   "outputs": [],
   "source": []
  },
  {
   "cell_type": "markdown",
   "metadata": {},
   "source": [
    "# Problem Statement\n",
    "\n",
    "Ann, John, and Alex took a bus tour of Disneyland. Each of them must pay **5 plastic chips** for the ride, but they have only plastic coins of values **10, 15, and 20 chips** (each has an unlimited number of each type of coin). How can they pay for the ride?\n",
    "\n",
    "---\n",
    "\n",
    "## Assumptions\n",
    "\n",
    "- Each person needs to pay exactly **5 chips**.\n",
    "- Available coin denominations: **10**, **15**, and **20** chips.\n",
    "- They can exchange coins among themselves.\n",
    "\n",
    "---\n",
    "\n",
    "## Solution\n",
    "\n",
    "Let us denote:\n",
    "\n",
    "- **Person 1**: Ann  \n",
    "- **Person 2**: John  \n",
    "- **Person 3**: Alex\n",
    "\n",
    "The following exchange ensures each person pays **5 chips**:\n",
    "\n",
    "1. **Alex (Person 3)** gives a **20-chip coin** to **John (Person 2)**.\n",
    "2. **John** gives a **15-chip coin** back to **Alex**.\n",
    "3. **John** now gives a **10-chip coin** to **Ann (Person 1)**.\n",
    "4. **Ann** gives the **15-chip coin** (which came from Alex via John) to pay the ride.\n",
    "\n",
    "Now, each person pays their fair share of 5 chips:\n",
    "\n",
    "- Alex effectively pays: \\(20 - 15 = 5\\) chips.\n",
    "- John pays: \\(15 - 10 = 5\\) chips.\n",
    "- Ann pays: \\(15 - 10 = 5\\)\n"
   ]
  }
 ],
 "metadata": {
  "language_info": {
   "name": "python"
  }
 },
 "nbformat": 4,
 "nbformat_minor": 2
}
