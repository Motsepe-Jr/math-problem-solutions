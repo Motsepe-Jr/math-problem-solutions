{
 "cells": [
  {
   "cell_type": "markdown",
   "metadata": {},
   "source": [
    "## Problem Statement\n",
    "#### If we list all the natural numbers below $10$ that are multiples of $3$ or $5$, we get $3$, $5$, $6$, and $9$. The sum of these multiples is $23$. *Task*: Find the sum of all the multiples of $3$ or $5$ below $1000$.\n",
    "#### If someone ask you for multiple of some $n$ number, just multiply $n$ by natural/counting numbers $\\{1,2,3,4,5...\\}$"
   ]
  },
  {
   "cell_type": "markdown",
   "metadata": {},
   "source": [
    "## Mathematical Equation\n",
    "\n",
    "#### We need to find the sum of all natural numbers $n$ such that $n < 1000$ and $n$ is a multiple of either 3 or 5. Using set notation, we can write:\n",
    "$$\n",
    "S = \\{ n \\in \\mathbb{N} \\mid n < 1000 \\text{ and } (n \\mod 3 = 0 \\text{ or } n \\mod 5 = 0) \\}\n",
    "$$\n",
    "#### The sum of the elements in the set $S$ can be written as:\n",
    "$$\n",
    "\\text{Sum} = \\sum_{\\substack{n < 1000 \\\\ n \\mod 3 = 0 \\text{ or } n \\mod 5 = 0}} n\n",
    "$$\n"
   ]
  },
  {
   "cell_type": "markdown",
   "metadata": {},
   "source": [
    "## Solution\n",
    "\n",
    "#### To solve this, we need to iterate through all the numbers less than 1000, and check if they are divible by either 3 or 5, and sum them up. Or multiply 3 and 5 by natural numbers $\\{1,2,3,4,5...\\}$, whie ensuring that the resulkt is $ < 1000 $\n",
    "#### For example:\n",
    "- Below $10$: the multiples of $3$ are $\\{ 3, 6, 9 \\}$ and the multiples of $5$ are $\\{5\\}$\n",
    "- The Union of these sets is $\\{3, 5, 6, 9 \\}$ and their sum is  $ 23 $\n",
    "\n"
   ]
  },
  {
   "cell_type": "code",
   "execution_count": 2,
   "metadata": {},
   "outputs": [],
   "source": [
    "## Code Implementation\n",
    "\n",
    "def sum_of_multiples(limit, multiples):\n",
    "    total_sum = 0 \n",
    "\n",
    "    # below limit, so limit is not included\n",
    "    for n in range(1, limit):\n",
    "        if any(n % m == 0 for m in multiples):\n",
    "            total_sum += n\n",
    "    \n",
    "    return total_sum\n",
    "\n",
    "limit = 1000\n",
    "multiples = [3, 5]\n",
    "result = sum_of_multiples(limit, multiples)\n",
    "\n",
    "# print(f\"The sum of all multiples of 3 or 5 below {limit} is {result}\")"
   ]
  },
  {
   "cell_type": "code",
   "execution_count": null,
   "metadata": {},
   "outputs": [],
   "source": [
    "#The sum of all multiples of 3 or 5 below 1000 is 233168 "
   ]
  }
 ],
 "metadata": {
  "kernelspec": {
   "display_name": ".venv",
   "language": "python",
   "name": "python3"
  },
  "language_info": {
   "codemirror_mode": {
    "name": "ipython",
    "version": 3
   },
   "file_extension": ".py",
   "mimetype": "text/x-python",
   "name": "python",
   "nbconvert_exporter": "python",
   "pygments_lexer": "ipython3",
   "version": "3.11.0"
  }
 },
 "nbformat": 4,
 "nbformat_minor": 2
}
