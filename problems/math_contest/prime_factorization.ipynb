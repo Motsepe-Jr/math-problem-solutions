{
 "cells": [
  {
   "cell_type": "markdown",
   "metadata": {},
   "source": [
    "## Problem Statement\n",
    "A group of students at a middle school are competing in the finals of a science fair competition. The finals are held in the gym. If the product of the ages of all the children in the finals is 32,166,277, how many children are competing in the finals of the science fair? The youngest child in the school is 10, and the oldest is 14.\n",
    "\n",
    "## Mathematical Formulation\n",
    "We need to determine the number of children competing, given that their ages multiply to 32,166,277. Let the ages be represented as:\n",
    "\n",
    "$$ [ A_1 \\times A_2 \\times A_3 \\times ... \\times A_n = 32,166,277 ] $$\n",
    "\n",
    "where each $$ ( A_i ) $$ is an integer between 10 and 14 (inclusive). The goal is to determine the number $$ ( n )$$\n"
   ]
  },
  {
   "cell_type": "markdown",
   "metadata": {},
   "source": [
    "## Solution Approach\n",
    "1. **Prime Factorization**: Break down the number 32,166,277 into its prime factors.\n",
    "2. **Grouping Factors into Allowed Ages**: Identify valid age groupings based on available ages (10 to 14).\n",
    "3. **Determine Count of Students**: Count how many numbers (ages) multiply to 32,166,277."
   ]
  },
  {
   "cell_type": "code",
   "execution_count": null,
   "metadata": {},
   "outputs": [],
   "source": [
    "import sympy\n",
    "\n",
    "def count_students(product, min_age, max_age):\n",
    " \n",
    "    factors = list(sympy.factorint(product).elements())\n",
    "    \n",
    "    ages = []\n",
    "    for factor in factors:\n",
    "        if min_age <= factor <= max_age:\n",
    "            ages.append(factor)\n",
    "    \n",
    "    return len(ages) if len(ages) == len(factors) else \"Not all factors fit in the age range\"\n",
    "\n",
    "product = 32166277\n",
    "min_age, max_age = 10, 14\n",
    "num_students = count_students(product, min_age, max_age)\n",
    "\n",
    "print(f\"The number of students competing in the finals is: {num_students}\")"
   ]
  }
 ],
 "metadata": {
  "kernelspec": {
   "display_name": ".venv",
   "language": "python",
   "name": "python3"
  },
  "language_info": {
   "codemirror_mode": {
    "name": "ipython",
    "version": 3
   },
   "file_extension": ".py",
   "mimetype": "text/x-python",
   "name": "python",
   "nbconvert_exporter": "python",
   "pygments_lexer": "ipython3",
   "version": "3.11.0"
  }
 },
 "nbformat": 4,
 "nbformat_minor": 2
}
